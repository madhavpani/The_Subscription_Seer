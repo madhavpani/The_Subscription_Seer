{
 "cells": [
  {
   "cell_type": "markdown",
   "id": "9e15eede-0bb6-41ec-9abd-057ab8467830",
   "metadata": {},
   "source": [
    "## The Subscription Seer"
   ]
  },
  {
   "cell_type": "markdown",
   "id": "346d9347-3866-4d86-aadc-bf3c5d3c2b30",
   "metadata": {},
   "source": [
    "#### Setup or Importing Libraries"
   ]
  },
  {
   "cell_type": "code",
   "execution_count": 1,
   "id": "236f1d92-bc64-4c0c-aee4-41bece94e59d",
   "metadata": {},
   "outputs": [],
   "source": [
    "import tensorflow as tf\n",
    "import keras\n",
    "from keras.utils import FeatureSpace\n",
    "import pandas as pd\n",
    "import numpy as np"
   ]
  },
  {
   "cell_type": "code",
   "execution_count": 2,
   "id": "31d65c01-cd29-4dba-94e8-dd5c70f6efdb",
   "metadata": {},
   "outputs": [],
   "source": [
    "import warnings\n",
    "warnings.filterwarnings('ignore')"
   ]
  },
  {
   "cell_type": "markdown",
   "id": "7e9fe4e7-d5ce-42c6-ae62-e83500f9713a",
   "metadata": {},
   "source": [
    "#### Load the Data"
   ]
  },
  {
   "cell_type": "code",
   "execution_count": 3,
   "id": "1664d6e4-59c7-447c-bb90-acaf7720f075",
   "metadata": {},
   "outputs": [],
   "source": [
    "df = pd.read_csv('bank.csv')"
   ]
  },
  {
   "cell_type": "markdown",
   "id": "2d56aee2-cf2c-4794-819b-48f249ecfb5d",
   "metadata": {},
   "source": [
    "## DF properties"
   ]
  },
  {
   "cell_type": "markdown",
   "id": "cc2c111b-0459-48c4-bbec-1612ceaf0728",
   "metadata": {},
   "source": [
    "#### Preview"
   ]
  },
  {
   "cell_type": "code",
   "execution_count": 4,
   "id": "d653ec39-e737-42fd-a523-0e607c1abf84",
   "metadata": {},
   "outputs": [
    {
     "data": {
      "text/html": [
       "<div>\n",
       "<style scoped>\n",
       "    .dataframe tbody tr th:only-of-type {\n",
       "        vertical-align: middle;\n",
       "    }\n",
       "\n",
       "    .dataframe tbody tr th {\n",
       "        vertical-align: top;\n",
       "    }\n",
       "\n",
       "    .dataframe thead th {\n",
       "        text-align: right;\n",
       "    }\n",
       "</style>\n",
       "<table border=\"1\" class=\"dataframe\">\n",
       "  <thead>\n",
       "    <tr style=\"text-align: right;\">\n",
       "      <th></th>\n",
       "      <th>Unnamed: 0</th>\n",
       "      <th>age</th>\n",
       "      <th>job</th>\n",
       "      <th>marital</th>\n",
       "      <th>education</th>\n",
       "      <th>default</th>\n",
       "      <th>housing</th>\n",
       "      <th>loan</th>\n",
       "      <th>contact</th>\n",
       "      <th>month</th>\n",
       "      <th>...</th>\n",
       "      <th>campaign</th>\n",
       "      <th>pdays</th>\n",
       "      <th>previous</th>\n",
       "      <th>poutcome</th>\n",
       "      <th>emp.var.rate</th>\n",
       "      <th>cons.price.idx</th>\n",
       "      <th>cons.conf.idx</th>\n",
       "      <th>euribor3m</th>\n",
       "      <th>nr.employed</th>\n",
       "      <th>y</th>\n",
       "    </tr>\n",
       "  </thead>\n",
       "  <tbody>\n",
       "    <tr>\n",
       "      <th>0</th>\n",
       "      <td>0</td>\n",
       "      <td>30</td>\n",
       "      <td>blue-collar</td>\n",
       "      <td>married</td>\n",
       "      <td>basic.9y</td>\n",
       "      <td>no</td>\n",
       "      <td>yes</td>\n",
       "      <td>no</td>\n",
       "      <td>cellular</td>\n",
       "      <td>may</td>\n",
       "      <td>...</td>\n",
       "      <td>2</td>\n",
       "      <td>999</td>\n",
       "      <td>0</td>\n",
       "      <td>nonexistent</td>\n",
       "      <td>-1.8</td>\n",
       "      <td>92.893</td>\n",
       "      <td>-46.2</td>\n",
       "      <td>1.313</td>\n",
       "      <td>5099.1</td>\n",
       "      <td>no</td>\n",
       "    </tr>\n",
       "    <tr>\n",
       "      <th>1</th>\n",
       "      <td>1</td>\n",
       "      <td>39</td>\n",
       "      <td>services</td>\n",
       "      <td>single</td>\n",
       "      <td>high.school</td>\n",
       "      <td>no</td>\n",
       "      <td>no</td>\n",
       "      <td>no</td>\n",
       "      <td>telephone</td>\n",
       "      <td>may</td>\n",
       "      <td>...</td>\n",
       "      <td>4</td>\n",
       "      <td>999</td>\n",
       "      <td>0</td>\n",
       "      <td>nonexistent</td>\n",
       "      <td>1.1</td>\n",
       "      <td>93.994</td>\n",
       "      <td>-36.4</td>\n",
       "      <td>4.855</td>\n",
       "      <td>5191.0</td>\n",
       "      <td>no</td>\n",
       "    </tr>\n",
       "    <tr>\n",
       "      <th>2</th>\n",
       "      <td>2</td>\n",
       "      <td>25</td>\n",
       "      <td>services</td>\n",
       "      <td>married</td>\n",
       "      <td>high.school</td>\n",
       "      <td>no</td>\n",
       "      <td>yes</td>\n",
       "      <td>no</td>\n",
       "      <td>telephone</td>\n",
       "      <td>jun</td>\n",
       "      <td>...</td>\n",
       "      <td>1</td>\n",
       "      <td>999</td>\n",
       "      <td>0</td>\n",
       "      <td>nonexistent</td>\n",
       "      <td>1.4</td>\n",
       "      <td>94.465</td>\n",
       "      <td>-41.8</td>\n",
       "      <td>4.962</td>\n",
       "      <td>5228.1</td>\n",
       "      <td>no</td>\n",
       "    </tr>\n",
       "    <tr>\n",
       "      <th>3</th>\n",
       "      <td>3</td>\n",
       "      <td>38</td>\n",
       "      <td>services</td>\n",
       "      <td>married</td>\n",
       "      <td>basic.9y</td>\n",
       "      <td>no</td>\n",
       "      <td>unknown</td>\n",
       "      <td>unknown</td>\n",
       "      <td>telephone</td>\n",
       "      <td>jun</td>\n",
       "      <td>...</td>\n",
       "      <td>3</td>\n",
       "      <td>999</td>\n",
       "      <td>0</td>\n",
       "      <td>nonexistent</td>\n",
       "      <td>1.4</td>\n",
       "      <td>94.465</td>\n",
       "      <td>-41.8</td>\n",
       "      <td>4.959</td>\n",
       "      <td>5228.1</td>\n",
       "      <td>no</td>\n",
       "    </tr>\n",
       "    <tr>\n",
       "      <th>4</th>\n",
       "      <td>4</td>\n",
       "      <td>47</td>\n",
       "      <td>admin.</td>\n",
       "      <td>married</td>\n",
       "      <td>university.degree</td>\n",
       "      <td>no</td>\n",
       "      <td>yes</td>\n",
       "      <td>no</td>\n",
       "      <td>cellular</td>\n",
       "      <td>nov</td>\n",
       "      <td>...</td>\n",
       "      <td>1</td>\n",
       "      <td>999</td>\n",
       "      <td>0</td>\n",
       "      <td>nonexistent</td>\n",
       "      <td>-0.1</td>\n",
       "      <td>93.200</td>\n",
       "      <td>-42.0</td>\n",
       "      <td>4.191</td>\n",
       "      <td>5195.8</td>\n",
       "      <td>no</td>\n",
       "    </tr>\n",
       "  </tbody>\n",
       "</table>\n",
       "<p>5 rows × 22 columns</p>\n",
       "</div>"
      ],
      "text/plain": [
       "   Unnamed: 0  age          job  marital          education default  housing  \\\n",
       "0           0   30  blue-collar  married           basic.9y      no      yes   \n",
       "1           1   39     services   single        high.school      no       no   \n",
       "2           2   25     services  married        high.school      no      yes   \n",
       "3           3   38     services  married           basic.9y      no  unknown   \n",
       "4           4   47       admin.  married  university.degree      no      yes   \n",
       "\n",
       "      loan    contact month  ... campaign  pdays  previous     poutcome  \\\n",
       "0       no   cellular   may  ...        2    999         0  nonexistent   \n",
       "1       no  telephone   may  ...        4    999         0  nonexistent   \n",
       "2       no  telephone   jun  ...        1    999         0  nonexistent   \n",
       "3  unknown  telephone   jun  ...        3    999         0  nonexistent   \n",
       "4       no   cellular   nov  ...        1    999         0  nonexistent   \n",
       "\n",
       "   emp.var.rate cons.price.idx  cons.conf.idx  euribor3m  nr.employed   y  \n",
       "0          -1.8         92.893          -46.2      1.313       5099.1  no  \n",
       "1           1.1         93.994          -36.4      4.855       5191.0  no  \n",
       "2           1.4         94.465          -41.8      4.962       5228.1  no  \n",
       "3           1.4         94.465          -41.8      4.959       5228.1  no  \n",
       "4          -0.1         93.200          -42.0      4.191       5195.8  no  \n",
       "\n",
       "[5 rows x 22 columns]"
      ]
     },
     "execution_count": 4,
     "metadata": {},
     "output_type": "execute_result"
    }
   ],
   "source": [
    "df.head()"
   ]
  },
  {
   "cell_type": "markdown",
   "id": "84a80827-115c-4f89-93e5-d0ac7797c5a9",
   "metadata": {},
   "source": [
    "#### Shape"
   ]
  },
  {
   "cell_type": "code",
   "execution_count": 5,
   "id": "e110dfed-939e-4499-8d8f-4d1bde7b3bd6",
   "metadata": {},
   "outputs": [
    {
     "data": {
      "text/plain": [
       "(4119, 22)"
      ]
     },
     "execution_count": 5,
     "metadata": {},
     "output_type": "execute_result"
    }
   ],
   "source": [
    "df.shape"
   ]
  },
  {
   "cell_type": "markdown",
   "id": "27bff554-41eb-48ff-a64d-d26bc9e33f4f",
   "metadata": {},
   "source": [
    "#### Columns"
   ]
  },
  {
   "cell_type": "code",
   "execution_count": 6,
   "id": "de5e7f0b-7f53-482f-b246-38fdeea2a42c",
   "metadata": {},
   "outputs": [
    {
     "data": {
      "text/plain": [
       "Index(['Unnamed: 0', 'age', 'job', 'marital', 'education', 'default',\n",
       "       'housing', 'loan', 'contact', 'month', 'day_of_week', 'duration',\n",
       "       'campaign', 'pdays', 'previous', 'poutcome', 'emp.var.rate',\n",
       "       'cons.price.idx', 'cons.conf.idx', 'euribor3m', 'nr.employed', 'y'],\n",
       "      dtype='object')"
      ]
     },
     "execution_count": 6,
     "metadata": {},
     "output_type": "execute_result"
    }
   ],
   "source": [
    "df.columns"
   ]
  },
  {
   "cell_type": "markdown",
   "id": "a52f4a4d-992f-4c7d-b49a-2d301be9898b",
   "metadata": {},
   "source": [
    "#### Info"
   ]
  },
  {
   "cell_type": "code",
   "execution_count": 7,
   "id": "59420b8f-bb4e-4eed-953b-b4e0f50fa7bb",
   "metadata": {},
   "outputs": [
    {
     "name": "stdout",
     "output_type": "stream",
     "text": [
      "<class 'pandas.core.frame.DataFrame'>\n",
      "RangeIndex: 4119 entries, 0 to 4118\n",
      "Data columns (total 22 columns):\n",
      " #   Column          Non-Null Count  Dtype  \n",
      "---  ------          --------------  -----  \n",
      " 0   Unnamed: 0      4119 non-null   int64  \n",
      " 1   age             4119 non-null   int64  \n",
      " 2   job             4119 non-null   object \n",
      " 3   marital         4119 non-null   object \n",
      " 4   education       4119 non-null   object \n",
      " 5   default         4119 non-null   object \n",
      " 6   housing         4119 non-null   object \n",
      " 7   loan            4119 non-null   object \n",
      " 8   contact         4119 non-null   object \n",
      " 9   month           4119 non-null   object \n",
      " 10  day_of_week     4119 non-null   object \n",
      " 11  duration        4119 non-null   int64  \n",
      " 12  campaign        4119 non-null   int64  \n",
      " 13  pdays           4119 non-null   int64  \n",
      " 14  previous        4119 non-null   int64  \n",
      " 15  poutcome        4119 non-null   object \n",
      " 16  emp.var.rate    4119 non-null   float64\n",
      " 17  cons.price.idx  4119 non-null   float64\n",
      " 18  cons.conf.idx   4119 non-null   float64\n",
      " 19  euribor3m       4119 non-null   float64\n",
      " 20  nr.employed     4119 non-null   float64\n",
      " 21  y               4119 non-null   object \n",
      "dtypes: float64(5), int64(6), object(11)\n",
      "memory usage: 708.1+ KB\n"
     ]
    }
   ],
   "source": [
    "df.info()"
   ]
  },
  {
   "cell_type": "markdown",
   "id": "9b0a3bb2-66c7-43f3-930c-31f655b8d5c0",
   "metadata": {},
   "source": [
    "#### Correlation"
   ]
  },
  {
   "cell_type": "code",
   "execution_count": 8,
   "id": "9366a866-a0f9-42d1-9726-df86521619f3",
   "metadata": {},
   "outputs": [
    {
     "data": {
      "text/html": [
       "<div>\n",
       "<style scoped>\n",
       "    .dataframe tbody tr th:only-of-type {\n",
       "        vertical-align: middle;\n",
       "    }\n",
       "\n",
       "    .dataframe tbody tr th {\n",
       "        vertical-align: top;\n",
       "    }\n",
       "\n",
       "    .dataframe thead th {\n",
       "        text-align: right;\n",
       "    }\n",
       "</style>\n",
       "<table border=\"1\" class=\"dataframe\">\n",
       "  <thead>\n",
       "    <tr style=\"text-align: right;\">\n",
       "      <th></th>\n",
       "      <th>Unnamed: 0</th>\n",
       "      <th>age</th>\n",
       "      <th>duration</th>\n",
       "      <th>campaign</th>\n",
       "      <th>pdays</th>\n",
       "      <th>previous</th>\n",
       "      <th>emp.var.rate</th>\n",
       "      <th>cons.price.idx</th>\n",
       "      <th>cons.conf.idx</th>\n",
       "      <th>euribor3m</th>\n",
       "      <th>nr.employed</th>\n",
       "    </tr>\n",
       "  </thead>\n",
       "  <tbody>\n",
       "    <tr>\n",
       "      <th>Unnamed: 0</th>\n",
       "      <td>1.000000</td>\n",
       "      <td>0.030971</td>\n",
       "      <td>0.012072</td>\n",
       "      <td>-0.000211</td>\n",
       "      <td>0.000781</td>\n",
       "      <td>-0.008499</td>\n",
       "      <td>-0.017758</td>\n",
       "      <td>-0.033435</td>\n",
       "      <td>0.031584</td>\n",
       "      <td>-0.003764</td>\n",
       "      <td>0.003782</td>\n",
       "    </tr>\n",
       "    <tr>\n",
       "      <th>age</th>\n",
       "      <td>0.030971</td>\n",
       "      <td>1.000000</td>\n",
       "      <td>0.041299</td>\n",
       "      <td>-0.014169</td>\n",
       "      <td>-0.043425</td>\n",
       "      <td>0.050931</td>\n",
       "      <td>-0.019192</td>\n",
       "      <td>-0.000482</td>\n",
       "      <td>0.098135</td>\n",
       "      <td>-0.015033</td>\n",
       "      <td>-0.041936</td>\n",
       "    </tr>\n",
       "    <tr>\n",
       "      <th>duration</th>\n",
       "      <td>0.012072</td>\n",
       "      <td>0.041299</td>\n",
       "      <td>1.000000</td>\n",
       "      <td>-0.085348</td>\n",
       "      <td>-0.046998</td>\n",
       "      <td>0.025724</td>\n",
       "      <td>-0.028848</td>\n",
       "      <td>0.016672</td>\n",
       "      <td>-0.034745</td>\n",
       "      <td>-0.032329</td>\n",
       "      <td>-0.044218</td>\n",
       "    </tr>\n",
       "    <tr>\n",
       "      <th>campaign</th>\n",
       "      <td>-0.000211</td>\n",
       "      <td>-0.014169</td>\n",
       "      <td>-0.085348</td>\n",
       "      <td>1.000000</td>\n",
       "      <td>0.058742</td>\n",
       "      <td>-0.091490</td>\n",
       "      <td>0.176079</td>\n",
       "      <td>0.145021</td>\n",
       "      <td>0.007882</td>\n",
       "      <td>0.159435</td>\n",
       "      <td>0.161037</td>\n",
       "    </tr>\n",
       "    <tr>\n",
       "      <th>pdays</th>\n",
       "      <td>0.000781</td>\n",
       "      <td>-0.043425</td>\n",
       "      <td>-0.046998</td>\n",
       "      <td>0.058742</td>\n",
       "      <td>1.000000</td>\n",
       "      <td>-0.587941</td>\n",
       "      <td>0.270684</td>\n",
       "      <td>0.058472</td>\n",
       "      <td>-0.092090</td>\n",
       "      <td>0.301478</td>\n",
       "      <td>0.381983</td>\n",
       "    </tr>\n",
       "    <tr>\n",
       "      <th>previous</th>\n",
       "      <td>-0.008499</td>\n",
       "      <td>0.050931</td>\n",
       "      <td>0.025724</td>\n",
       "      <td>-0.091490</td>\n",
       "      <td>-0.587941</td>\n",
       "      <td>1.000000</td>\n",
       "      <td>-0.415238</td>\n",
       "      <td>-0.164922</td>\n",
       "      <td>-0.051420</td>\n",
       "      <td>-0.458851</td>\n",
       "      <td>-0.514853</td>\n",
       "    </tr>\n",
       "    <tr>\n",
       "      <th>emp.var.rate</th>\n",
       "      <td>-0.017758</td>\n",
       "      <td>-0.019192</td>\n",
       "      <td>-0.028848</td>\n",
       "      <td>0.176079</td>\n",
       "      <td>0.270684</td>\n",
       "      <td>-0.415238</td>\n",
       "      <td>1.000000</td>\n",
       "      <td>0.755155</td>\n",
       "      <td>0.195022</td>\n",
       "      <td>0.970308</td>\n",
       "      <td>0.897173</td>\n",
       "    </tr>\n",
       "    <tr>\n",
       "      <th>cons.price.idx</th>\n",
       "      <td>-0.033435</td>\n",
       "      <td>-0.000482</td>\n",
       "      <td>0.016672</td>\n",
       "      <td>0.145021</td>\n",
       "      <td>0.058472</td>\n",
       "      <td>-0.164922</td>\n",
       "      <td>0.755155</td>\n",
       "      <td>1.000000</td>\n",
       "      <td>0.045835</td>\n",
       "      <td>0.657159</td>\n",
       "      <td>0.472560</td>\n",
       "    </tr>\n",
       "    <tr>\n",
       "      <th>cons.conf.idx</th>\n",
       "      <td>0.031584</td>\n",
       "      <td>0.098135</td>\n",
       "      <td>-0.034745</td>\n",
       "      <td>0.007882</td>\n",
       "      <td>-0.092090</td>\n",
       "      <td>-0.051420</td>\n",
       "      <td>0.195022</td>\n",
       "      <td>0.045835</td>\n",
       "      <td>1.000000</td>\n",
       "      <td>0.276595</td>\n",
       "      <td>0.107054</td>\n",
       "    </tr>\n",
       "    <tr>\n",
       "      <th>euribor3m</th>\n",
       "      <td>-0.003764</td>\n",
       "      <td>-0.015033</td>\n",
       "      <td>-0.032329</td>\n",
       "      <td>0.159435</td>\n",
       "      <td>0.301478</td>\n",
       "      <td>-0.458851</td>\n",
       "      <td>0.970308</td>\n",
       "      <td>0.657159</td>\n",
       "      <td>0.276595</td>\n",
       "      <td>1.000000</td>\n",
       "      <td>0.942589</td>\n",
       "    </tr>\n",
       "    <tr>\n",
       "      <th>nr.employed</th>\n",
       "      <td>0.003782</td>\n",
       "      <td>-0.041936</td>\n",
       "      <td>-0.044218</td>\n",
       "      <td>0.161037</td>\n",
       "      <td>0.381983</td>\n",
       "      <td>-0.514853</td>\n",
       "      <td>0.897173</td>\n",
       "      <td>0.472560</td>\n",
       "      <td>0.107054</td>\n",
       "      <td>0.942589</td>\n",
       "      <td>1.000000</td>\n",
       "    </tr>\n",
       "  </tbody>\n",
       "</table>\n",
       "</div>"
      ],
      "text/plain": [
       "                Unnamed: 0       age  duration  campaign     pdays  previous  \\\n",
       "Unnamed: 0        1.000000  0.030971  0.012072 -0.000211  0.000781 -0.008499   \n",
       "age               0.030971  1.000000  0.041299 -0.014169 -0.043425  0.050931   \n",
       "duration          0.012072  0.041299  1.000000 -0.085348 -0.046998  0.025724   \n",
       "campaign         -0.000211 -0.014169 -0.085348  1.000000  0.058742 -0.091490   \n",
       "pdays             0.000781 -0.043425 -0.046998  0.058742  1.000000 -0.587941   \n",
       "previous         -0.008499  0.050931  0.025724 -0.091490 -0.587941  1.000000   \n",
       "emp.var.rate     -0.017758 -0.019192 -0.028848  0.176079  0.270684 -0.415238   \n",
       "cons.price.idx   -0.033435 -0.000482  0.016672  0.145021  0.058472 -0.164922   \n",
       "cons.conf.idx     0.031584  0.098135 -0.034745  0.007882 -0.092090 -0.051420   \n",
       "euribor3m        -0.003764 -0.015033 -0.032329  0.159435  0.301478 -0.458851   \n",
       "nr.employed       0.003782 -0.041936 -0.044218  0.161037  0.381983 -0.514853   \n",
       "\n",
       "                emp.var.rate  cons.price.idx  cons.conf.idx  euribor3m  \\\n",
       "Unnamed: 0         -0.017758       -0.033435       0.031584  -0.003764   \n",
       "age                -0.019192       -0.000482       0.098135  -0.015033   \n",
       "duration           -0.028848        0.016672      -0.034745  -0.032329   \n",
       "campaign            0.176079        0.145021       0.007882   0.159435   \n",
       "pdays               0.270684        0.058472      -0.092090   0.301478   \n",
       "previous           -0.415238       -0.164922      -0.051420  -0.458851   \n",
       "emp.var.rate        1.000000        0.755155       0.195022   0.970308   \n",
       "cons.price.idx      0.755155        1.000000       0.045835   0.657159   \n",
       "cons.conf.idx       0.195022        0.045835       1.000000   0.276595   \n",
       "euribor3m           0.970308        0.657159       0.276595   1.000000   \n",
       "nr.employed         0.897173        0.472560       0.107054   0.942589   \n",
       "\n",
       "                nr.employed  \n",
       "Unnamed: 0         0.003782  \n",
       "age               -0.041936  \n",
       "duration          -0.044218  \n",
       "campaign           0.161037  \n",
       "pdays              0.381983  \n",
       "previous          -0.514853  \n",
       "emp.var.rate       0.897173  \n",
       "cons.price.idx     0.472560  \n",
       "cons.conf.idx      0.107054  \n",
       "euribor3m          0.942589  \n",
       "nr.employed        1.000000  "
      ]
     },
     "execution_count": 8,
     "metadata": {},
     "output_type": "execute_result"
    }
   ],
   "source": [
    "df.corr(numeric_only=True)"
   ]
  },
  {
   "cell_type": "markdown",
   "id": "a7eb402b-52b1-45a5-8354-32404c193fdd",
   "metadata": {},
   "source": [
    "#### Description"
   ]
  },
  {
   "cell_type": "code",
   "execution_count": 9,
   "id": "6b8134d9-ed58-4210-857d-74045feca31d",
   "metadata": {},
   "outputs": [
    {
     "data": {
      "text/html": [
       "<div>\n",
       "<style scoped>\n",
       "    .dataframe tbody tr th:only-of-type {\n",
       "        vertical-align: middle;\n",
       "    }\n",
       "\n",
       "    .dataframe tbody tr th {\n",
       "        vertical-align: top;\n",
       "    }\n",
       "\n",
       "    .dataframe thead th {\n",
       "        text-align: right;\n",
       "    }\n",
       "</style>\n",
       "<table border=\"1\" class=\"dataframe\">\n",
       "  <thead>\n",
       "    <tr style=\"text-align: right;\">\n",
       "      <th></th>\n",
       "      <th>Unnamed: 0</th>\n",
       "      <th>age</th>\n",
       "      <th>duration</th>\n",
       "      <th>campaign</th>\n",
       "      <th>pdays</th>\n",
       "      <th>previous</th>\n",
       "      <th>emp.var.rate</th>\n",
       "      <th>cons.price.idx</th>\n",
       "      <th>cons.conf.idx</th>\n",
       "      <th>euribor3m</th>\n",
       "      <th>nr.employed</th>\n",
       "    </tr>\n",
       "  </thead>\n",
       "  <tbody>\n",
       "    <tr>\n",
       "      <th>count</th>\n",
       "      <td>4119.000000</td>\n",
       "      <td>4119.000000</td>\n",
       "      <td>4119.000000</td>\n",
       "      <td>4119.000000</td>\n",
       "      <td>4119.000000</td>\n",
       "      <td>4119.000000</td>\n",
       "      <td>4119.000000</td>\n",
       "      <td>4119.000000</td>\n",
       "      <td>4119.000000</td>\n",
       "      <td>4119.000000</td>\n",
       "      <td>4119.000000</td>\n",
       "    </tr>\n",
       "    <tr>\n",
       "      <th>mean</th>\n",
       "      <td>2059.000000</td>\n",
       "      <td>40.113620</td>\n",
       "      <td>256.788055</td>\n",
       "      <td>2.537266</td>\n",
       "      <td>960.422190</td>\n",
       "      <td>0.190337</td>\n",
       "      <td>0.084972</td>\n",
       "      <td>93.579704</td>\n",
       "      <td>-40.499102</td>\n",
       "      <td>3.621356</td>\n",
       "      <td>5166.481695</td>\n",
       "    </tr>\n",
       "    <tr>\n",
       "      <th>std</th>\n",
       "      <td>1189.197208</td>\n",
       "      <td>10.313362</td>\n",
       "      <td>254.703736</td>\n",
       "      <td>2.568159</td>\n",
       "      <td>191.922786</td>\n",
       "      <td>0.541788</td>\n",
       "      <td>1.563114</td>\n",
       "      <td>0.579349</td>\n",
       "      <td>4.594578</td>\n",
       "      <td>1.733591</td>\n",
       "      <td>73.667904</td>\n",
       "    </tr>\n",
       "    <tr>\n",
       "      <th>min</th>\n",
       "      <td>0.000000</td>\n",
       "      <td>18.000000</td>\n",
       "      <td>0.000000</td>\n",
       "      <td>1.000000</td>\n",
       "      <td>0.000000</td>\n",
       "      <td>0.000000</td>\n",
       "      <td>-3.400000</td>\n",
       "      <td>92.201000</td>\n",
       "      <td>-50.800000</td>\n",
       "      <td>0.635000</td>\n",
       "      <td>4963.600000</td>\n",
       "    </tr>\n",
       "    <tr>\n",
       "      <th>25%</th>\n",
       "      <td>1029.500000</td>\n",
       "      <td>32.000000</td>\n",
       "      <td>103.000000</td>\n",
       "      <td>1.000000</td>\n",
       "      <td>999.000000</td>\n",
       "      <td>0.000000</td>\n",
       "      <td>-1.800000</td>\n",
       "      <td>93.075000</td>\n",
       "      <td>-42.700000</td>\n",
       "      <td>1.334000</td>\n",
       "      <td>5099.100000</td>\n",
       "    </tr>\n",
       "    <tr>\n",
       "      <th>50%</th>\n",
       "      <td>2059.000000</td>\n",
       "      <td>38.000000</td>\n",
       "      <td>181.000000</td>\n",
       "      <td>2.000000</td>\n",
       "      <td>999.000000</td>\n",
       "      <td>0.000000</td>\n",
       "      <td>1.100000</td>\n",
       "      <td>93.749000</td>\n",
       "      <td>-41.800000</td>\n",
       "      <td>4.857000</td>\n",
       "      <td>5191.000000</td>\n",
       "    </tr>\n",
       "    <tr>\n",
       "      <th>75%</th>\n",
       "      <td>3088.500000</td>\n",
       "      <td>47.000000</td>\n",
       "      <td>317.000000</td>\n",
       "      <td>3.000000</td>\n",
       "      <td>999.000000</td>\n",
       "      <td>0.000000</td>\n",
       "      <td>1.400000</td>\n",
       "      <td>93.994000</td>\n",
       "      <td>-36.400000</td>\n",
       "      <td>4.961000</td>\n",
       "      <td>5228.100000</td>\n",
       "    </tr>\n",
       "    <tr>\n",
       "      <th>max</th>\n",
       "      <td>4118.000000</td>\n",
       "      <td>88.000000</td>\n",
       "      <td>3643.000000</td>\n",
       "      <td>35.000000</td>\n",
       "      <td>999.000000</td>\n",
       "      <td>6.000000</td>\n",
       "      <td>1.400000</td>\n",
       "      <td>94.767000</td>\n",
       "      <td>-26.900000</td>\n",
       "      <td>5.045000</td>\n",
       "      <td>5228.100000</td>\n",
       "    </tr>\n",
       "  </tbody>\n",
       "</table>\n",
       "</div>"
      ],
      "text/plain": [
       "        Unnamed: 0          age     duration     campaign        pdays  \\\n",
       "count  4119.000000  4119.000000  4119.000000  4119.000000  4119.000000   \n",
       "mean   2059.000000    40.113620   256.788055     2.537266   960.422190   \n",
       "std    1189.197208    10.313362   254.703736     2.568159   191.922786   \n",
       "min       0.000000    18.000000     0.000000     1.000000     0.000000   \n",
       "25%    1029.500000    32.000000   103.000000     1.000000   999.000000   \n",
       "50%    2059.000000    38.000000   181.000000     2.000000   999.000000   \n",
       "75%    3088.500000    47.000000   317.000000     3.000000   999.000000   \n",
       "max    4118.000000    88.000000  3643.000000    35.000000   999.000000   \n",
       "\n",
       "          previous  emp.var.rate  cons.price.idx  cons.conf.idx    euribor3m  \\\n",
       "count  4119.000000   4119.000000     4119.000000    4119.000000  4119.000000   \n",
       "mean      0.190337      0.084972       93.579704     -40.499102     3.621356   \n",
       "std       0.541788      1.563114        0.579349       4.594578     1.733591   \n",
       "min       0.000000     -3.400000       92.201000     -50.800000     0.635000   \n",
       "25%       0.000000     -1.800000       93.075000     -42.700000     1.334000   \n",
       "50%       0.000000      1.100000       93.749000     -41.800000     4.857000   \n",
       "75%       0.000000      1.400000       93.994000     -36.400000     4.961000   \n",
       "max       6.000000      1.400000       94.767000     -26.900000     5.045000   \n",
       "\n",
       "       nr.employed  \n",
       "count  4119.000000  \n",
       "mean   5166.481695  \n",
       "std      73.667904  \n",
       "min    4963.600000  \n",
       "25%    5099.100000  \n",
       "50%    5191.000000  \n",
       "75%    5228.100000  \n",
       "max    5228.100000  "
      ]
     },
     "execution_count": 9,
     "metadata": {},
     "output_type": "execute_result"
    }
   ],
   "source": [
    "df.describe()"
   ]
  },
  {
   "cell_type": "markdown",
   "id": "647f626d-f615-4dfe-aaee-f7f8fac7a833",
   "metadata": {},
   "source": [
    "#### Unique Values"
   ]
  },
  {
   "cell_type": "code",
   "execution_count": 10,
   "id": "96d49e51-1345-485f-a425-2e5010be23de",
   "metadata": {},
   "outputs": [
    {
     "name": "stdout",
     "output_type": "stream",
     "text": [
      "job: ['blue-collar' 'services' 'admin.' 'entrepreneur' 'self-employed'\n",
      " 'technician' 'management' 'student' 'retired' 'housemaid' 'unemployed'\n",
      " 'unknown']\n",
      "\n",
      "marital: ['married' 'single' 'divorced' 'unknown']\n",
      "\n",
      "education: ['basic.9y' 'high.school' 'university.degree' 'professional.course'\n",
      " 'basic.6y' 'basic.4y' 'unknown' 'illiterate']\n",
      "\n",
      "default: ['no' 'unknown' 'yes']\n",
      "\n",
      "housing: ['yes' 'no' 'unknown']\n",
      "\n",
      "loan: ['no' 'unknown' 'yes']\n",
      "\n",
      "contact: ['cellular' 'telephone']\n",
      "\n",
      "month: ['may' 'jun' 'nov' 'sep' 'jul' 'aug' 'mar' 'oct' 'apr' 'dec']\n",
      "\n",
      "day_of_week: ['fri' 'wed' 'mon' 'thu' 'tue']\n",
      "\n",
      "poutcome: ['nonexistent' 'failure' 'success']\n",
      "\n",
      "y: ['no' 'yes']\n",
      "\n"
     ]
    }
   ],
   "source": [
    "categorical_cols = df.select_dtypes(include='object').columns\n",
    "\n",
    "for i in categorical_cols:\n",
    "    print(f'{i}: {df[i].unique()}\\n')"
   ]
  },
  {
   "cell_type": "code",
   "execution_count": 11,
   "id": "d2e372e3-9fe0-4798-a632-62fea6033355",
   "metadata": {},
   "outputs": [
    {
     "name": "stdout",
     "output_type": "stream",
     "text": [
      "Unnamed: 0: [   0    1    2 ... 4116 4117 4118]\n",
      "\n",
      "age: [30 39 25 38 47 32 41 31 35 36 29 27 44 46 45 50 55 40 28 34 33 51 48 20\n",
      " 76 56 24 58 60 37 52 42 49 54 59 57 43 53 75 82 71 21 22 23 26 81 61 67\n",
      " 73 18 64 74 77 86 85 63 88 78 72 68 80 66 19 62 65 69 70]\n",
      "\n",
      "duration: [ 487  346  227   17   58  128  290   44   68  170  301  148   97  211\n",
      "  553  698  191   59   38  849  326  222  626  119  388  479  446  127\n",
      "  109  113  393  151  256   42  525   57  499   84  137   31  430  126\n",
      "  340  412  132   79  341  157  252  263  215   89  143   40   10  481\n",
      "  233  204  403  180   16  447   81  361 1091  395  432  596   77  768\n",
      "   96  357  459   11  264   93  374  158   95  835  505  300  390  274\n",
      "  135  257  268  477   91   76  103  436  483  250  259  389    7  123\n",
      "   92  297  406  104  854  147  203  149  144  394  523   73  197  108\n",
      "   80  114  122 1161  181  239  360  314  984  663  141  706  797  311\n",
      "   63  111   49  171  242  279  246  309  168  153  152   90  117  640\n",
      "  199 1114   74  190  738  224  344  383   35  772  124  345  951  188\n",
      "  809  192  154  100  317  293   30  442  187   64  629  423  888  207\n",
      "  265  273   85  261  136  711   88   72  307   39  156  202  353  159\n",
      "  347  174  280  686   94  225  474  377  185  121  160  313  219  267\n",
      "  228  355  102  116   83  473  605  585  255 1868  846  404   51   87\n",
      "  167  440  673   48  236  288  193  318  209  173  503  101  370 1207\n",
      "  262  609  806  335  266  434   82   15  155  339  206  178  461   50\n",
      "   56   55  142    9  247  130  336  424  617  238  632   86  165  212\n",
      "   54  184    6   70   98  106  456  118  241  439  322  417  498  405\n",
      "   99  712  112  223  133  258  958  898  282  175  235  372   69  183\n",
      "  270  134  449  115  205  145  548  379  105  544  401  549  291  655\n",
      "  179  391  750  454   23  363  775  164  988  471  385  125  886   34\n",
      "  334  955  545  659  230  699 1276  251   25  696  701  342  161  275\n",
      "  172  139  232  131   36  600  177  217  216  329  604  634  107  245\n",
      "  690  286  201  198  249  226 1058  299  441  285  195  292  298 1013\n",
      "  248 1319  146  294  575  237  861  618  271  200  166  367  218  584\n",
      "  509   27   78  162  651  415 1149  110  240  366  284  431  608  244\n",
      "  455  807  420  182  638  641   21 1348  324  331  550  489  304  189\n",
      "  728  278  387   29   71  767 1476  176   52  150   32   12  501  381\n",
      "  482   14  569  697  581  243  229  408   53  305  316  577  427  214\n",
      "   19   65  281  468   67  438  582  721  295  231  221 1170  368 1360\n",
      "  433  352   37  650  289  213   22   43   26  532   75  557  541   62\n",
      "    5  941  422  319  653  397 1447  999  321 1143  667 1132   60  396\n",
      "  194 1068  337  400  140  409  208   13  458  713  820  310  587  320\n",
      "  566  748  599  411 1185  398  169  272   66  679    8   18  497 1065\n",
      "  276  716   20  760  253  551  675   46  484  333  369  464  362  997\n",
      "  287  649  470  762  591  758 1551  480  869   61  129  979  630  234\n",
      "  354  502  451  296  407  120  754  589   41  514  919  530  595  526\n",
      "  494   24 1353  332 1234  687  428  488  486  413  892  452  614  749\n",
      " 1327   28   47  677  643 2653  302  570  938  260  901  138  590  546\n",
      "  371  312  163  328  722  323  611  539  359  671  781 1005  303  343\n",
      "  418   45  419 1148  349 3253  606  894  813  891  210 1067  543  382\n",
      "  492 1183  903    4  375 1628  840 1167  386  868  327  485  506  351\n",
      "  315  529 1720  533  429  766  616 1130  747  496 2301  460  220  776\n",
      "  568  448  186  534 1334 1138 1019  364 1090  857  269  637  536  475\n",
      "  453  330  338  764  873 1176  384   33  602  476    0  689  718  796\n",
      "  662  799  715  633  348 1014  700 1045 1152  725  358  196  493  254\n",
      "  742  504 1092  399  952  426  457 3643 1105  838  829  565  644  771\n",
      "  513  646  356  693  592  628  556  769 1111  843  668  848  855  517\n",
      "  992  619  867 1441  665 1171  542  607  800 1150 1855 1203  723  308\n",
      "  823 1076  837  780  789 1002  578  507  508  567  421 1241  373  571\n",
      "  469  527  588  645 1221  704  378 1127  818 1062  562  825  435  802\n",
      "  531  306  739  365  325 1432 1806 1046  674  740 1119  636 1357  414\n",
      "  727 1009  283 1011  511 1186  402  519  490  683  688 1340  472  882\n",
      "  520  515 1332 1820 1311  559 1365 1980  410  895 1190  784  376  521\n",
      "  834  450 1128  516  770 1074 1259 1422 1300 1135  624  540  657  627\n",
      "  681  491  705  597 1298 1438  277 1087  782  416 1288 1424  720  726\n",
      "  537  996  815  805 1468  801  495  463  814  350  702  623  980 1195\n",
      "  478  881  445  658  528  522 1012 1590  621 1602  757  593  879  580\n",
      "  620 1386]\n",
      "\n",
      "campaign: [ 2  4  1  3  6  7 27  5 12 14 10  8 11 13  9 15 16 18 17 22 19 23 24 35\n",
      " 29]\n",
      "\n",
      "pdays: [999  12   3   6   5   2  10  11   7   1  18   4  15   0  16   9  19  17\n",
      "  13  21  14]\n",
      "\n",
      "previous: [0 2 1 3 5 4 6]\n",
      "\n",
      "emp.var.rate: [-1.8  1.1  1.4 -0.1 -1.1 -2.9 -1.7 -3.4 -3.  -0.2]\n",
      "\n",
      "cons.price.idx: [92.893 93.994 94.465 93.2   94.199 93.918 93.444 93.369 92.843 92.963\n",
      " 94.601 94.027 92.379 92.431 93.749 93.075 94.055 92.469 94.767 92.201\n",
      " 92.649 94.215 93.876 93.798 92.713 92.756]\n",
      "\n",
      "cons.conf.idx: [-46.2 -36.4 -41.8 -42.  -37.5 -42.7 -36.1 -34.8 -50.  -40.8 -49.5 -38.3\n",
      " -29.8 -26.9 -34.6 -47.1 -39.8 -33.6 -50.8 -31.4 -30.1 -40.3 -40.  -40.4\n",
      " -33.  -45.9]\n",
      "\n",
      "euribor3m: [1.313 4.855 4.962 4.959 4.191 0.884 0.879 4.153 4.958 4.968 4.859 4.963\n",
      " 4.957 4.965 4.961 0.639 4.967 4.864 4.856 1.299 4.86  1.687 4.865 1.268\n",
      " 4.12  1.334 0.977 1.344 0.899 1.327 4.592 4.97  1.26  4.966 0.77  4.866\n",
      " 4.964 4.857 0.886 0.739 0.654 1.405 1.281 4.96  0.754 1.291 1.365 4.076\n",
      " 1.266 1.41  1.25  4.858 0.702 1.029 1.085 1.392 1.262 1.05  0.851 0.716\n",
      " 0.877 0.835 1.048 0.904 1.028 0.637 1.244 1.354 4.021 1.453 0.715 1.778\n",
      " 0.773 1.035 0.9   0.898 0.742 0.861 1.264 0.704 1.27  0.695 1.039 1.531\n",
      " 0.883 0.748 0.809 4.794 1.479 0.697 0.959 1.032 0.896 0.827 1.483 0.905\n",
      " 1.466 0.714 0.644 0.849 0.881 0.834 0.645 0.659 0.885 1.041 0.942 0.737\n",
      " 4.947 0.722 1.049 1.415 0.797 0.699 0.81  0.71  1.423 0.707 0.646 1.043\n",
      " 4.955 0.668 0.825 1.435 0.72  0.767 0.982 1.602 1.259 1.811 0.859 1.224\n",
      " 0.876 0.878 1.099 0.788 0.717 0.838 0.64  0.762 1.663 0.73  0.728 1.372\n",
      " 0.782 4.245 1.51  3.329 0.749 4.343 0.893 0.731 0.635 0.7   0.889 0.649\n",
      " 0.873 1.445 1.629 0.944 3.853 0.87  0.79  5.045 0.914 0.719 0.735 1.498\n",
      " 0.677 0.819 0.652 0.692 0.829 1.726 1.406 0.761 0.846 1.252 4.956 0.953\n",
      " 0.803 0.937 0.706 0.869 1.703 0.729 0.709 1.046 0.752 0.921 4.921 0.987\n",
      " 1.03  1.031 0.741 0.843 1.044 0.643 0.755 0.724 0.882 1.757 1.215 0.74\n",
      " 0.683 1.52  4.663 1.059 0.636 0.771 0.655 1.4   0.65  1.384 0.778 0.682\n",
      " 1.614 1.04  1.538 1.072 1.    1.799 1.64  1.65  0.642 0.718 0.768 0.723\n",
      " 0.996 0.721 0.672 0.854 1.016 0.965]\n",
      "\n",
      "nr.employed: [5099.1 5191.  5228.1 5195.8 4963.6 5008.7 5076.2 4991.6 5017.5 5023.5\n",
      " 5176.3]\n",
      "\n"
     ]
    }
   ],
   "source": [
    "numerical_cols = df.select_dtypes(include='number').columns\n",
    "\n",
    "for i in numerical_cols:\n",
    "    print(f'{i}: {df[i].unique()}\\n')"
   ]
  },
  {
   "cell_type": "markdown",
   "id": "ab522288-acc1-4e21-934d-5d2fd4c3a104",
   "metadata": {},
   "source": [
    "## Data Cleaning"
   ]
  },
  {
   "cell_type": "markdown",
   "id": "e1673ab7-3097-4271-be7e-02e6fba8d91b",
   "metadata": {},
   "source": [
    "#### Drop duration to avoid target leak"
   ]
  },
  {
   "cell_type": "code",
   "execution_count": 12,
   "id": "99aee72b-9071-4fe5-b9ec-f4dccef960aa",
   "metadata": {},
   "outputs": [],
   "source": [
    "df.drop(columns=['duration', 'Unnamed: 0'], inplace=True)"
   ]
  },
  {
   "cell_type": "markdown",
   "id": "0a6fb753-b76c-4711-9d1d-afdd5a16cb33",
   "metadata": {},
   "source": [
    "#### Removing unknown values"
   ]
  },
  {
   "cell_type": "code",
   "execution_count": 13,
   "id": "64a5819c-13ac-4342-8a87-092ee95adc6e",
   "metadata": {},
   "outputs": [],
   "source": [
    "columns = ['job', 'marital', 'education', 'default', 'housing', 'loan']\n",
    "\n",
    "for col in columns:\n",
    "    unique_vals = df[col].unique()\n",
    "    unique_vals = [value for value in unique_vals if value != 'unknown']\n",
    "    df[col] = df[col].apply(lambda x: np.random.choice(unique_vals) if x == 'unknown' else x)"
   ]
  },
  {
   "cell_type": "markdown",
   "id": "88169492-2abe-4c8a-95c8-d41b407d20b2",
   "metadata": {},
   "source": [
    "#### Creating new 'previously_contacted' feature"
   ]
  },
  {
   "cell_type": "code",
   "execution_count": 14,
   "id": "ab4c26e8-9e73-4911-873e-99f5e8209f7f",
   "metadata": {},
   "outputs": [],
   "source": [
    "df['previously_contacted'] = df['pdays'].map(lambda x: 0 if x == 999 else 1)"
   ]
  },
  {
   "cell_type": "code",
   "execution_count": 15,
   "id": "7f0d8ab9-dfa5-49cf-bd04-2573aa71bf06",
   "metadata": {},
   "outputs": [
    {
     "data": {
      "text/plain": [
       "(4119, 21)"
      ]
     },
     "execution_count": 15,
     "metadata": {},
     "output_type": "execute_result"
    }
   ],
   "source": [
    "df.shape"
   ]
  },
  {
   "cell_type": "code",
   "execution_count": 16,
   "id": "035ee933-6c6b-4531-ba1d-524808112421",
   "metadata": {},
   "outputs": [
    {
     "data": {
      "text/html": [
       "<div>\n",
       "<style scoped>\n",
       "    .dataframe tbody tr th:only-of-type {\n",
       "        vertical-align: middle;\n",
       "    }\n",
       "\n",
       "    .dataframe tbody tr th {\n",
       "        vertical-align: top;\n",
       "    }\n",
       "\n",
       "    .dataframe thead th {\n",
       "        text-align: right;\n",
       "    }\n",
       "</style>\n",
       "<table border=\"1\" class=\"dataframe\">\n",
       "  <thead>\n",
       "    <tr style=\"text-align: right;\">\n",
       "      <th></th>\n",
       "      <th>age</th>\n",
       "      <th>job</th>\n",
       "      <th>marital</th>\n",
       "      <th>education</th>\n",
       "      <th>default</th>\n",
       "      <th>housing</th>\n",
       "      <th>loan</th>\n",
       "      <th>contact</th>\n",
       "      <th>month</th>\n",
       "      <th>day_of_week</th>\n",
       "      <th>...</th>\n",
       "      <th>pdays</th>\n",
       "      <th>previous</th>\n",
       "      <th>poutcome</th>\n",
       "      <th>emp.var.rate</th>\n",
       "      <th>cons.price.idx</th>\n",
       "      <th>cons.conf.idx</th>\n",
       "      <th>euribor3m</th>\n",
       "      <th>nr.employed</th>\n",
       "      <th>y</th>\n",
       "      <th>previously_contacted</th>\n",
       "    </tr>\n",
       "  </thead>\n",
       "  <tbody>\n",
       "    <tr>\n",
       "      <th>0</th>\n",
       "      <td>30</td>\n",
       "      <td>blue-collar</td>\n",
       "      <td>married</td>\n",
       "      <td>basic.9y</td>\n",
       "      <td>no</td>\n",
       "      <td>yes</td>\n",
       "      <td>no</td>\n",
       "      <td>cellular</td>\n",
       "      <td>may</td>\n",
       "      <td>fri</td>\n",
       "      <td>...</td>\n",
       "      <td>999</td>\n",
       "      <td>0</td>\n",
       "      <td>nonexistent</td>\n",
       "      <td>-1.8</td>\n",
       "      <td>92.893</td>\n",
       "      <td>-46.2</td>\n",
       "      <td>1.313</td>\n",
       "      <td>5099.1</td>\n",
       "      <td>no</td>\n",
       "      <td>0</td>\n",
       "    </tr>\n",
       "    <tr>\n",
       "      <th>1</th>\n",
       "      <td>39</td>\n",
       "      <td>services</td>\n",
       "      <td>single</td>\n",
       "      <td>high.school</td>\n",
       "      <td>no</td>\n",
       "      <td>no</td>\n",
       "      <td>no</td>\n",
       "      <td>telephone</td>\n",
       "      <td>may</td>\n",
       "      <td>fri</td>\n",
       "      <td>...</td>\n",
       "      <td>999</td>\n",
       "      <td>0</td>\n",
       "      <td>nonexistent</td>\n",
       "      <td>1.1</td>\n",
       "      <td>93.994</td>\n",
       "      <td>-36.4</td>\n",
       "      <td>4.855</td>\n",
       "      <td>5191.0</td>\n",
       "      <td>no</td>\n",
       "      <td>0</td>\n",
       "    </tr>\n",
       "    <tr>\n",
       "      <th>2</th>\n",
       "      <td>25</td>\n",
       "      <td>services</td>\n",
       "      <td>married</td>\n",
       "      <td>high.school</td>\n",
       "      <td>no</td>\n",
       "      <td>yes</td>\n",
       "      <td>no</td>\n",
       "      <td>telephone</td>\n",
       "      <td>jun</td>\n",
       "      <td>wed</td>\n",
       "      <td>...</td>\n",
       "      <td>999</td>\n",
       "      <td>0</td>\n",
       "      <td>nonexistent</td>\n",
       "      <td>1.4</td>\n",
       "      <td>94.465</td>\n",
       "      <td>-41.8</td>\n",
       "      <td>4.962</td>\n",
       "      <td>5228.1</td>\n",
       "      <td>no</td>\n",
       "      <td>0</td>\n",
       "    </tr>\n",
       "    <tr>\n",
       "      <th>3</th>\n",
       "      <td>38</td>\n",
       "      <td>services</td>\n",
       "      <td>married</td>\n",
       "      <td>basic.9y</td>\n",
       "      <td>no</td>\n",
       "      <td>no</td>\n",
       "      <td>yes</td>\n",
       "      <td>telephone</td>\n",
       "      <td>jun</td>\n",
       "      <td>fri</td>\n",
       "      <td>...</td>\n",
       "      <td>999</td>\n",
       "      <td>0</td>\n",
       "      <td>nonexistent</td>\n",
       "      <td>1.4</td>\n",
       "      <td>94.465</td>\n",
       "      <td>-41.8</td>\n",
       "      <td>4.959</td>\n",
       "      <td>5228.1</td>\n",
       "      <td>no</td>\n",
       "      <td>0</td>\n",
       "    </tr>\n",
       "    <tr>\n",
       "      <th>4</th>\n",
       "      <td>47</td>\n",
       "      <td>admin.</td>\n",
       "      <td>married</td>\n",
       "      <td>university.degree</td>\n",
       "      <td>no</td>\n",
       "      <td>yes</td>\n",
       "      <td>no</td>\n",
       "      <td>cellular</td>\n",
       "      <td>nov</td>\n",
       "      <td>mon</td>\n",
       "      <td>...</td>\n",
       "      <td>999</td>\n",
       "      <td>0</td>\n",
       "      <td>nonexistent</td>\n",
       "      <td>-0.1</td>\n",
       "      <td>93.200</td>\n",
       "      <td>-42.0</td>\n",
       "      <td>4.191</td>\n",
       "      <td>5195.8</td>\n",
       "      <td>no</td>\n",
       "      <td>0</td>\n",
       "    </tr>\n",
       "  </tbody>\n",
       "</table>\n",
       "<p>5 rows × 21 columns</p>\n",
       "</div>"
      ],
      "text/plain": [
       "   age          job  marital          education default housing loan  \\\n",
       "0   30  blue-collar  married           basic.9y      no     yes   no   \n",
       "1   39     services   single        high.school      no      no   no   \n",
       "2   25     services  married        high.school      no     yes   no   \n",
       "3   38     services  married           basic.9y      no      no  yes   \n",
       "4   47       admin.  married  university.degree      no     yes   no   \n",
       "\n",
       "     contact month day_of_week  ...  pdays  previous     poutcome  \\\n",
       "0   cellular   may         fri  ...    999         0  nonexistent   \n",
       "1  telephone   may         fri  ...    999         0  nonexistent   \n",
       "2  telephone   jun         wed  ...    999         0  nonexistent   \n",
       "3  telephone   jun         fri  ...    999         0  nonexistent   \n",
       "4   cellular   nov         mon  ...    999         0  nonexistent   \n",
       "\n",
       "  emp.var.rate  cons.price.idx  cons.conf.idx  euribor3m  nr.employed   y  \\\n",
       "0         -1.8          92.893          -46.2      1.313       5099.1  no   \n",
       "1          1.1          93.994          -36.4      4.855       5191.0  no   \n",
       "2          1.4          94.465          -41.8      4.962       5228.1  no   \n",
       "3          1.4          94.465          -41.8      4.959       5228.1  no   \n",
       "4         -0.1          93.200          -42.0      4.191       5195.8  no   \n",
       "\n",
       "  previously_contacted  \n",
       "0                    0  \n",
       "1                    0  \n",
       "2                    0  \n",
       "3                    0  \n",
       "4                    0  \n",
       "\n",
       "[5 rows x 21 columns]"
      ]
     },
     "execution_count": 16,
     "metadata": {},
     "output_type": "execute_result"
    }
   ],
   "source": [
    "df.head()"
   ]
  },
  {
   "cell_type": "code",
   "execution_count": 17,
   "id": "f3cca00f-25d4-4a01-b4e9-d28be44519f6",
   "metadata": {},
   "outputs": [],
   "source": [
    "df.to_csv('cleaned_bank.csv')"
   ]
  },
  {
   "cell_type": "markdown",
   "id": "5f5b8920-9a63-4f1d-86d8-faf1fa6e822a",
   "metadata": {},
   "source": [
    "## Data Splitting"
   ]
  },
  {
   "cell_type": "code",
   "execution_count": 18,
   "id": "79650290-a28b-4d16-8c41-0d93c74f6608",
   "metadata": {},
   "outputs": [],
   "source": [
    "validation_df = df.sample(frac=0.2, random_state=0)\n",
    "train_df = df.drop(validation_df.index)"
   ]
  },
  {
   "cell_type": "code",
   "execution_count": 19,
   "id": "05ba1c24-2e82-463e-a1a1-b1a24fe91f01",
   "metadata": {},
   "outputs": [
    {
     "data": {
      "text/plain": [
       "((3295, 21), (824, 21))"
      ]
     },
     "execution_count": 19,
     "metadata": {},
     "output_type": "execute_result"
    }
   ],
   "source": [
    "train_df.shape, validation_df.shape"
   ]
  },
  {
   "cell_type": "markdown",
   "id": "e2981e4a-1858-4ad8-8389-84311e4cf7a4",
   "metadata": {},
   "source": [
    "## Generating Tf Datasets"
   ]
  },
  {
   "cell_type": "code",
   "execution_count": 20,
   "id": "5f8a8078-c4d7-4c9d-bc19-e90e88643f23",
   "metadata": {},
   "outputs": [],
   "source": [
    "label_lookup = keras.layers.StringLookup(\n",
    "    vocabulary=['no', 'yes'],\n",
    "    num_oov_indices=0,\n",
    ")"
   ]
  },
  {
   "cell_type": "code",
   "execution_count": 21,
   "id": "6f86389a-0578-456b-b4c6-780f3a3ac8a6",
   "metadata": {},
   "outputs": [],
   "source": [
    "def encode_label(x, y):\n",
    "    encoded_y = label_lookup(y)\n",
    "    return x, encoded_y\n",
    "\n",
    "def df_to_ds(df):\n",
    "    df = df.copy()\n",
    "    labels = df.pop('y')\n",
    "    ds = tf.data.Dataset.from_tensor_slices((dict(df), labels))\n",
    "    ds = ds.map(encode_label, num_parallel_calls=tf.data.AUTOTUNE)\n",
    "    ds = ds.shuffle(buffer_size=len(df))\n",
    "    return ds"
   ]
  },
  {
   "cell_type": "code",
   "execution_count": 22,
   "id": "9234618a-1a89-4c18-90d2-e0c5dd1a13b4",
   "metadata": {},
   "outputs": [],
   "source": [
    "train_ds = df_to_ds(train_df)\n",
    "valid_ds = df_to_ds(validation_df)"
   ]
  },
  {
   "cell_type": "markdown",
   "id": "992587d7-f6fd-436e-85aa-0b792e6a60ff",
   "metadata": {},
   "source": [
    "#### Preview"
   ]
  },
  {
   "cell_type": "code",
   "execution_count": 23,
   "id": "a683d852-5f00-48cc-b949-12254423e14d",
   "metadata": {},
   "outputs": [
    {
     "name": "stdout",
     "output_type": "stream",
     "text": [
      "Input:  {'age': <tf.Tensor: shape=(), dtype=int64, numpy=37>, 'job': <tf.Tensor: shape=(), dtype=string, numpy=b'technician'>, 'marital': <tf.Tensor: shape=(), dtype=string, numpy=b'single'>, 'education': <tf.Tensor: shape=(), dtype=string, numpy=b'professional.course'>, 'default': <tf.Tensor: shape=(), dtype=string, numpy=b'no'>, 'housing': <tf.Tensor: shape=(), dtype=string, numpy=b'no'>, 'loan': <tf.Tensor: shape=(), dtype=string, numpy=b'yes'>, 'contact': <tf.Tensor: shape=(), dtype=string, numpy=b'telephone'>, 'month': <tf.Tensor: shape=(), dtype=string, numpy=b'jun'>, 'day_of_week': <tf.Tensor: shape=(), dtype=string, numpy=b'mon'>, 'campaign': <tf.Tensor: shape=(), dtype=int64, numpy=4>, 'pdays': <tf.Tensor: shape=(), dtype=int64, numpy=999>, 'previous': <tf.Tensor: shape=(), dtype=int64, numpy=0>, 'poutcome': <tf.Tensor: shape=(), dtype=string, numpy=b'nonexistent'>, 'emp.var.rate': <tf.Tensor: shape=(), dtype=float64, numpy=1.4>, 'cons.price.idx': <tf.Tensor: shape=(), dtype=float64, numpy=94.465>, 'cons.conf.idx': <tf.Tensor: shape=(), dtype=float64, numpy=-41.8>, 'euribor3m': <tf.Tensor: shape=(), dtype=float64, numpy=4.865>, 'nr.employed': <tf.Tensor: shape=(), dtype=float64, numpy=5228.1>, 'previously_contacted': <tf.Tensor: shape=(), dtype=int64, numpy=0>}\n",
      "\n",
      "Target:  tf.Tensor(0, shape=(), dtype=int64)\n"
     ]
    }
   ],
   "source": [
    "for x, y in df_to_ds(train_df).take(1):\n",
    "    print('Input: ', x)\n",
    "    print()\n",
    "    print('Target: ', y)"
   ]
  },
  {
   "cell_type": "markdown",
   "id": "ef17aab6-6056-42b2-9ab1-d66be7a64b5d",
   "metadata": {},
   "source": [
    "## Feature Space"
   ]
  },
  {
   "cell_type": "markdown",
   "id": "08f9cb3b-1a85-4f57-b8b3-c185bf315594",
   "metadata": {},
   "source": [
    "#### Removing labels"
   ]
  },
  {
   "cell_type": "code",
   "execution_count": 24,
   "id": "8b9abd87-a399-4605-9f3e-44c3f903f544",
   "metadata": {},
   "outputs": [],
   "source": [
    "train_ds_with_no_labels = train_ds.map(lambda x, _: x)"
   ]
  },
  {
   "cell_type": "markdown",
   "id": "228cdec3-f3f2-40b7-9eec-c8446cebb9af",
   "metadata": {},
   "source": [
    "#### Configuring FeatureSpace"
   ]
  },
  {
   "cell_type": "code",
   "execution_count": 25,
   "id": "738c4e58-60b7-4cb7-8059-7924553a73a5",
   "metadata": {},
   "outputs": [],
   "source": [
    "feature_space = FeatureSpace(\n",
    "    features={\n",
    "        # categorical features encoded as integers\n",
    "        'previously_contacted': FeatureSpace.integer_categorical(num_oov_indices=0),\n",
    "        \n",
    "        # categorical features encoded as string\n",
    "        'marital': FeatureSpace.string_categorical(num_oov_indices=0),\n",
    "        'education': FeatureSpace.string_categorical(num_oov_indices=0),\n",
    "        'default': FeatureSpace.string_categorical(num_oov_indices=0),\n",
    "        'housing': FeatureSpace.string_categorical(num_oov_indices=0),\n",
    "        'loan': FeatureSpace.string_categorical(num_oov_indices=0),\n",
    "        'contact': FeatureSpace.string_categorical(num_oov_indices=0),\n",
    "        'month': FeatureSpace.string_categorical(num_oov_indices=0),\n",
    "        'day_of_week': FeatureSpace.string_categorical(num_oov_indices=0),\n",
    "        'poutcome': FeatureSpace.string_categorical(num_oov_indices=0),\n",
    "\n",
    "        # categorical features to hash and bin\n",
    "        'job': FeatureSpace.string_hashed(num_bins=3),\n",
    "\n",
    "        # Numerical features to hash and bin\n",
    "        'pdays': FeatureSpace.integer_hashed(num_bins=4),\n",
    "\n",
    "        # Numerical features to normalize and bin\n",
    "        'age': FeatureSpace.float_discretized(num_bins=4),\n",
    "\n",
    "        # Numerical features to normalize\n",
    "        'campaign': FeatureSpace.float_normalized(),\n",
    "        'previous': FeatureSpace.float_normalized(),\n",
    "        'emp.var.rate': FeatureSpace.float_normalized(),\n",
    "        'cons.price.idx': FeatureSpace.float_normalized(),\n",
    "        'cons.conf.idx': FeatureSpace.float_normalized(),\n",
    "        'euribor3m': FeatureSpace.float_normalized(),\n",
    "        'nr.employed': FeatureSpace.float_normalized()\n",
    "    },\n",
    "\n",
    "    crosses=[\n",
    "        FeatureSpace.cross(feature_names=('age', 'job'), crossing_dim=8),\n",
    "        FeatureSpace.cross(feature_names=('housing', 'loan'), crossing_dim=6),\n",
    "        FeatureSpace.cross(\n",
    "            feature_names=('poutcome', 'previously_contacted'), crossing_dim=2\n",
    "        ),\n",
    "    ],\n",
    "    output_mode='concat',\n",
    ")"
   ]
  },
  {
   "cell_type": "markdown",
   "id": "3a60536e-6dfd-4655-85c5-009bb9c67e39",
   "metadata": {},
   "source": [
    "#### Batching"
   ]
  },
  {
   "cell_type": "code",
   "execution_count": 26,
   "id": "40b50268-bfc8-49a7-9082-e89767648292",
   "metadata": {},
   "outputs": [],
   "source": [
    "train_ds = train_ds.batch(32)\n",
    "valid_ds = valid_ds.batch(32)"
   ]
  },
  {
   "cell_type": "markdown",
   "id": "d2b59a16-6e1b-4513-b638-d8075df0bdaa",
   "metadata": {},
   "source": [
    "#### Adapt the FeatureSpace"
   ]
  },
  {
   "cell_type": "code",
   "execution_count": 27,
   "id": "38ae8437-eabe-4683-801f-02a8d869b414",
   "metadata": {},
   "outputs": [
    {
     "name": "stdout",
     "output_type": "stream",
     "text": [
      "WARNING:tensorflow:From C:\\Users\\Madhavz\\anaconda3\\Lib\\site-packages\\keras\\src\\backend\\tensorflow\\core.py:222: The name tf.placeholder is deprecated. Please use tf.compat.v1.placeholder instead.\n",
      "\n"
     ]
    }
   ],
   "source": [
    "feature_space.adapt(train_ds_with_no_labels)"
   ]
  },
  {
   "cell_type": "markdown",
   "id": "4cf148e5-1ffd-4232-bbdc-b882907ad5bf",
   "metadata": {},
   "source": [
    "## Data Preprocessing"
   ]
  },
  {
   "cell_type": "code",
   "execution_count": 28,
   "id": "420de16e-4b9a-4311-a35f-00de0de59cca",
   "metadata": {},
   "outputs": [],
   "source": [
    "preprocessed_train_ds = train_ds.map(\n",
    "    lambda x, y: (feature_space(x), y), num_parallel_calls=tf.data.AUTOTUNE\n",
    ").prefetch(tf.data.AUTOTUNE)\n",
    "\n",
    "preprocessed_valid_ds = valid_ds.map(\n",
    "    lambda x, y: (feature_space(x), y), num_parallel_calls=tf.data.AUTOTUNE\n",
    ").prefetch(tf.data.AUTOTUNE)"
   ]
  },
  {
   "cell_type": "markdown",
   "id": "3438e709-c88a-414a-846f-53e0283331ca",
   "metadata": {},
   "source": [
    "## Model Building"
   ]
  },
  {
   "cell_type": "markdown",
   "id": "8bd2d58b-f288-4d4f-ab10-0ef3eb8ee572",
   "metadata": {},
   "source": [
    "#### Raw and Encoded Features"
   ]
  },
  {
   "cell_type": "code",
   "execution_count": 29,
   "id": "9cf8f6d1-f454-49b2-8822-9c2d2d937930",
   "metadata": {},
   "outputs": [],
   "source": [
    "dict_inputs = feature_space.get_inputs()\n",
    "encoded_features = feature_space.get_encoded_features()"
   ]
  },
  {
   "cell_type": "markdown",
   "id": "14a07de0-533d-4c90-99ab-3c1205caa5f3",
   "metadata": {},
   "source": [
    "#### Layers"
   ]
  },
  {
   "cell_type": "code",
   "execution_count": 30,
   "id": "9f0459aa-92a9-4761-a802-0f3954760e69",
   "metadata": {},
   "outputs": [],
   "source": [
    "x = keras.layers.Dense(64, activation='relu')(encoded_features)\n",
    "x = keras.layers.Dropout(0.5)(x)\n",
    "output = keras.layers.Dense(1, activation='sigmoid')(x)"
   ]
  },
  {
   "cell_type": "markdown",
   "id": "17738618-8049-42e5-ac2c-b235d4ecb215",
   "metadata": {},
   "source": [
    "#### Model Compilation"
   ]
  },
  {
   "cell_type": "code",
   "execution_count": 31,
   "id": "ebc37168-0cdc-4d14-abb3-68ae5a281a39",
   "metadata": {},
   "outputs": [],
   "source": [
    "model = keras.Model(inputs=encoded_features, outputs=output)\n",
    "model.compile(optimizer='adam', loss='binary_crossentropy', metrics=['accuracy'])"
   ]
  },
  {
   "cell_type": "markdown",
   "id": "757c3cf8-3243-4d2a-a6da-1b1e04095857",
   "metadata": {},
   "source": [
    "#### Fitting"
   ]
  },
  {
   "cell_type": "code",
   "execution_count": 32,
   "id": "0aaaf90d-93c2-4ac0-b941-1de8c2470085",
   "metadata": {},
   "outputs": [
    {
     "name": "stdout",
     "output_type": "stream",
     "text": [
      "Epoch 1/20\n",
      "103/103 - 2s - 16ms/step - accuracy: 0.8634 - loss: 0.3673 - val_accuracy: 0.9029 - val_loss: 0.2742\n",
      "Epoch 2/20\n",
      "103/103 - 1s - 6ms/step - accuracy: 0.8968 - loss: 0.2974 - val_accuracy: 0.9090 - val_loss: 0.2651\n",
      "Epoch 3/20\n",
      "103/103 - 1s - 6ms/step - accuracy: 0.9002 - loss: 0.2976 - val_accuracy: 0.9090 - val_loss: 0.2645\n",
      "Epoch 4/20\n",
      "103/103 - 1s - 6ms/step - accuracy: 0.8944 - loss: 0.2949 - val_accuracy: 0.9114 - val_loss: 0.2627\n",
      "Epoch 5/20\n",
      "103/103 - 1s - 6ms/step - accuracy: 0.9008 - loss: 0.2890 - val_accuracy: 0.9090 - val_loss: 0.2633\n",
      "Epoch 6/20\n",
      "103/103 - 1s - 6ms/step - accuracy: 0.8980 - loss: 0.2879 - val_accuracy: 0.9090 - val_loss: 0.2631\n",
      "Epoch 7/20\n",
      "103/103 - 1s - 6ms/step - accuracy: 0.9011 - loss: 0.2810 - val_accuracy: 0.9114 - val_loss: 0.2636\n",
      "Epoch 8/20\n",
      "103/103 - 1s - 6ms/step - accuracy: 0.8986 - loss: 0.2803 - val_accuracy: 0.9066 - val_loss: 0.2685\n",
      "Epoch 9/20\n",
      "103/103 - 1s - 6ms/step - accuracy: 0.9020 - loss: 0.2783 - val_accuracy: 0.9078 - val_loss: 0.2664\n",
      "Epoch 10/20\n",
      "103/103 - 1s - 6ms/step - accuracy: 0.8992 - loss: 0.2794 - val_accuracy: 0.9090 - val_loss: 0.2646\n",
      "Epoch 11/20\n",
      "103/103 - 1s - 7ms/step - accuracy: 0.9002 - loss: 0.2770 - val_accuracy: 0.9078 - val_loss: 0.2649\n",
      "Epoch 12/20\n",
      "103/103 - 1s - 7ms/step - accuracy: 0.9065 - loss: 0.2795 - val_accuracy: 0.9066 - val_loss: 0.2661\n",
      "Epoch 13/20\n",
      "103/103 - 1s - 6ms/step - accuracy: 0.9053 - loss: 0.2727 - val_accuracy: 0.9053 - val_loss: 0.2673\n",
      "Epoch 14/20\n",
      "103/103 - 1s - 6ms/step - accuracy: 0.9068 - loss: 0.2730 - val_accuracy: 0.9053 - val_loss: 0.2699\n",
      "Epoch 15/20\n",
      "103/103 - 1s - 7ms/step - accuracy: 0.9071 - loss: 0.2732 - val_accuracy: 0.9041 - val_loss: 0.2676\n",
      "Epoch 16/20\n",
      "103/103 - 1s - 6ms/step - accuracy: 0.9056 - loss: 0.2733 - val_accuracy: 0.9066 - val_loss: 0.2667\n",
      "Epoch 17/20\n",
      "103/103 - 1s - 6ms/step - accuracy: 0.9080 - loss: 0.2660 - val_accuracy: 0.9053 - val_loss: 0.2659\n",
      "Epoch 18/20\n",
      "103/103 - 1s - 7ms/step - accuracy: 0.9065 - loss: 0.2639 - val_accuracy: 0.9053 - val_loss: 0.2680\n",
      "Epoch 19/20\n",
      "103/103 - 1s - 6ms/step - accuracy: 0.9041 - loss: 0.2633 - val_accuracy: 0.9029 - val_loss: 0.2681\n",
      "Epoch 20/20\n",
      "103/103 - 1s - 8ms/step - accuracy: 0.9041 - loss: 0.2712 - val_accuracy: 0.9114 - val_loss: 0.2661\n"
     ]
    },
    {
     "data": {
      "text/plain": [
       "<keras.src.callbacks.history.History at 0x1bd29590690>"
      ]
     },
     "execution_count": 32,
     "metadata": {},
     "output_type": "execute_result"
    }
   ],
   "source": [
    "model.fit(\n",
    "    preprocessed_train_ds,\n",
    "    validation_data=preprocessed_valid_ds,\n",
    "    epochs=20,\n",
    "    verbose=2\n",
    ")"
   ]
  },
  {
   "cell_type": "markdown",
   "id": "06302b41-7768-4620-abf2-c1bf3f458d16",
   "metadata": {},
   "source": [
    "#### Inference Model"
   ]
  },
  {
   "cell_type": "code",
   "execution_count": 33,
   "id": "5518c057-9bc8-4671-9120-e5bb8b9af137",
   "metadata": {},
   "outputs": [],
   "source": [
    "inference_model = keras.Model(inputs=dict_inputs, outputs=output)"
   ]
  },
  {
   "cell_type": "markdown",
   "id": "d91ba50a-fc7a-4cdc-b329-cf361a9a977d",
   "metadata": {},
   "source": [
    "#### Save the model"
   ]
  },
  {
   "cell_type": "code",
   "execution_count": 34,
   "id": "b41197a2-9ffc-4460-b06f-b73d67acfe73",
   "metadata": {},
   "outputs": [],
   "source": [
    "inference_model.save('inference_model.keras')"
   ]
  },
  {
   "cell_type": "markdown",
   "id": "1d0db920-7982-42f8-aa30-a1b368278ad8",
   "metadata": {},
   "source": [
    "## Prediction"
   ]
  },
  {
   "cell_type": "code",
   "execution_count": 35,
   "id": "527be626-370b-4cc7-9dca-e2ccbbf0f1f4",
   "metadata": {},
   "outputs": [
    {
     "name": "stdout",
     "output_type": "stream",
     "text": [
      "\u001b[1m1/1\u001b[0m \u001b[32m━━━━━━━━━━━━━━━━━━━━\u001b[0m\u001b[37m\u001b[0m \u001b[1m0s\u001b[0m 367ms/step\n",
      "This particular client has a 8.39% probability of subscribing a term deposit, as evaluated by our model.\n"
     ]
    }
   ],
   "source": [
    "sample = {\n",
    "    \"age\": 30,\n",
    "    \"job\": \"blue-collar\",\n",
    "    \"marital\": \"married\",\n",
    "    \"education\": \"basic.9y\",\n",
    "    \"default\": \"no\",\n",
    "    \"housing\": \"yes\",\n",
    "    \"loan\": \"no\",\n",
    "    \"contact\": \"cellular\",\n",
    "    \"month\": \"may\",\n",
    "    \"day_of_week\": \"fri\",\n",
    "    \"campaign\": 2,\n",
    "    \"pdays\": 999,\n",
    "    \"previous\": 0,\n",
    "    \"poutcome\": \"nonexistent\",\n",
    "    \"emp.var.rate\": -1.8,\n",
    "    \"cons.price.idx\": 92.893,\n",
    "    \"cons.conf.idx\": -46.2,\n",
    "    \"euribor3m\": 1.313,\n",
    "    \"nr.employed\": 5099.1,\n",
    "    \"previously_contacted\": 0,\n",
    "}\n",
    "\n",
    "input_dict = {\n",
    "    name: keras.ops.convert_to_tensor([value]) for name, value in sample.items()\n",
    "}\n",
    "predictions = inference_model.predict(input_dict)\n",
    "\n",
    "print(\n",
    "    f\"This particular client has a {100 * predictions[0][0]:.2f}% probability \"\n",
    "    \"of subscribing a term deposit, as evaluated by our model.\"\n",
    ")"
   ]
  },
  {
   "cell_type": "code",
   "execution_count": null,
   "id": "7fa09450-da82-440f-a7a9-b558f8d3d893",
   "metadata": {},
   "outputs": [],
   "source": []
  }
 ],
 "metadata": {
  "kernelspec": {
   "display_name": "Python 3 (ipykernel)",
   "language": "python",
   "name": "python3"
  },
  "language_info": {
   "codemirror_mode": {
    "name": "ipython",
    "version": 3
   },
   "file_extension": ".py",
   "mimetype": "text/x-python",
   "name": "python",
   "nbconvert_exporter": "python",
   "pygments_lexer": "ipython3",
   "version": "3.11.7"
  }
 },
 "nbformat": 4,
 "nbformat_minor": 5
}
